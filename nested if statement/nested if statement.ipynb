{
 "cells": [
  {
   "cell_type": "code",
   "execution_count": 3,
   "metadata": {},
   "outputs": [
    {
     "name": "stdout",
     "output_type": "stream",
     "text": [
      "x is less than y\n",
      "x is greater than y\n"
     ]
    }
   ],
   "source": [
    "#nested if statement\n",
    "x=10\n",
    "y=12\n",
    "if x < y:\n",
    "    print(\"x is less than y\")\n",
    "    if x < y:\n",
    "        print(\"x is greater than y\")    \n",
    "    else:\n",
    "        print(\"x is less than y\")   \n",
    "        #this is the same as the following code\n",
    "        if x < y:\n",
    "            print(\"x is less than y\")\n",
    "        elif x > y:\n",
    "            print(\"x is greater than y\")\n",
    "        else:\n",
    "            print(\"x is equal to y\")\n",
    "            #the elif statement is a shortcut for else if   \n",
    "            #it allows you to check multiple expressions\n",
    "            #the elif statement is only executed if the original if statement is false\n",
    "            #the else statement is executed if all the statements are false\n",
    "            #the else statement is optional\n",
    "            #you can have as many elif statements as you want\n",
    "            #you can have only one else statement   \n"
   ]
  }
 ],
 "metadata": {
  "kernelspec": {
   "display_name": "Python 3",
   "language": "python",
   "name": "python3"
  },
  "language_info": {
   "codemirror_mode": {
    "name": "ipython",
    "version": 3
   },
   "file_extension": ".py",
   "mimetype": "text/x-python",
   "name": "python",
   "nbconvert_exporter": "python",
   "pygments_lexer": "ipython3",
   "version": "3.13.2"
  }
 },
 "nbformat": 4,
 "nbformat_minor": 2
}
